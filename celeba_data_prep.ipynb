{
 "cells": [
  {
   "cell_type": "code",
   "execution_count": null,
   "metadata": {},
   "outputs": [],
   "source": [
    "import zipfile\n",
    "\n",
    "with zipfile.ZipFile('datasets/celeba-hq/img_align_celeba.zip', 'r') as zip_ref:\n",
    "    zip_ref.extractall('datasets/celeba-hq/raw_images')\n"
   ]
  },
  {
   "cell_type": "code",
   "execution_count": null,
   "metadata": {},
   "outputs": [],
   "source": [
    "from PIL import Image\n",
    "import os\n",
    "\n",
    "input_dir = 'datasets/celeba-hq/raw_images'\n",
    "output_dir = 'datasets/celeba-hq/val_source_256'\n",
    "os.makedirs(output_dir, exist_ok=True)\n",
    "\n",
    "for fname in os.listdir(input_dir):\n",
    "    if fname.lower().endswith('.jpg'):\n",
    "        input_path = os.path.join(input_dir, fname)\n",
    "        output_path = os.path.join(output_dir, fname)\n",
    "\n",
    "        try:\n",
    "            img = Image.open(input_path).convert('RGB')\n",
    "            img = img.resize((256, 256), Image.LANCZOS)\n",
    "            img.save(output_path)\n",
    "        except Exception as e:\n",
    "            print(f\"Error processing {fname}: {e}\")\n"
   ]
  },
  {
   "cell_type": "code",
   "execution_count": 1,
   "metadata": {},
   "outputs": [
    {
     "name": "stdout",
     "output_type": "stream",
     "text": [
      "Detectron v2 is not installed\n"
     ]
    },
    {
     "name": "stderr",
     "output_type": "stream",
     "text": [
      "2025-04-08 18:20:42.222961: I tensorflow/core/util/port.cc:153] oneDNN custom operations are on. You may see slightly different numerical results due to floating-point round-off errors from different computation orders. To turn them off, set the environment variable `TF_ENABLE_ONEDNN_OPTS=0`.\n",
      "2025-04-08 18:20:50.548182: I tensorflow/core/util/port.cc:153] oneDNN custom operations are on. You may see slightly different numerical results due to floating-point round-off errors from different computation orders. To turn them off, set the environment variable `TF_ENABLE_ONEDNN_OPTS=0`.\n"
     ]
    }
   ],
   "source": [
    "import os\n",
    "\n",
    "os.environ['PYTHONPATH'] = \".\"\n",
    "\n",
    "!python bin/gen_mask_dataset.py configs/data_gen/random_thick_256.yaml datasets/celeba-hq/val_source_256 datasets/celeba-hq/val_masks_thick\n"
   ]
  },
  {
   "cell_type": "code",
   "execution_count": 4,
   "metadata": {},
   "outputs": [
    {
     "name": "stdout",
     "output_type": "stream",
     "text": [
      "Cleaned: Only mask files remain.\n"
     ]
    }
   ],
   "source": [
    "import os\n",
    "\n",
    "mask_dir = 'datasets/celeba-hq/val_masks_thick'\n",
    "\n",
    "for fname in os.listdir(mask_dir):\n",
    "    if not fname.endswith('_mask000.png'):\n",
    "        os.remove(os.path.join(mask_dir, fname))\n",
    "\n",
    "print(\"Cleaned: Only mask files remain.\")\n"
   ]
  },
  {
   "cell_type": "code",
   "execution_count": 6,
   "metadata": {},
   "outputs": [
    {
     "name": "stdout",
     "output_type": "stream",
     "text": [
      "✅ Renamed 201481 mask files.\n",
      "🗑️ Removed 1118 images without matching masks.\n"
     ]
    }
   ],
   "source": [
    "import os\n",
    "import shutil\n",
    "\n",
    "# Paths\n",
    "mask_dir = 'datasets/celeba-hq/val_masks_thick'\n",
    "img_dir = 'datasets/celeba-hq/val_source_256'\n",
    "\n",
    "# Step 1: Rename masks to imagenum_mask.png\n",
    "renamed_masks = set()\n",
    "\n",
    "for fname in os.listdir(mask_dir):\n",
    "    if fname.endswith('_mask000.png'):\n",
    "        base = fname.split('_')[0]  # e.g., 000001\n",
    "        new_name = f\"{base}_mask.png\"\n",
    "        os.rename(os.path.join(mask_dir, fname), os.path.join(mask_dir, new_name))\n",
    "        renamed_masks.add(base)\n",
    "\n",
    "# Step 2: Delete images without corresponding mask\n",
    "deleted_imgs = []\n",
    "\n",
    "for img_file in os.listdir(img_dir):\n",
    "    if img_file.endswith('.jpg'):\n",
    "        img_id = os.path.splitext(img_file)[0]  # remove .jpg\n",
    "        if img_id not in renamed_masks:\n",
    "            os.remove(os.path.join(img_dir, img_file))\n",
    "            deleted_imgs.append(img_file)\n",
    "\n",
    "print(f\"✅ Renamed {len(renamed_masks)} mask files.\")\n",
    "print(f\"🗑️ Removed {len(deleted_imgs)} images without matching masks.\")\n"
   ]
  },
  {
   "cell_type": "code",
   "execution_count": 7,
   "metadata": {},
   "outputs": [
    {
     "name": "stdout",
     "output_type": "stream",
     "text": [
      "Number of images: 201481\n",
      "Number of masks: 201481\n"
     ]
    }
   ],
   "source": [
    "import os\n",
    "\n",
    "img_dir = \"datasets/celeba-hq/val_source_256\"\n",
    "mask_dir = \"datasets/celeba-hq/val_masks_thick\"\n",
    "\n",
    "images = sorted(os.listdir(img_dir))\n",
    "masks = sorted(os.listdir(mask_dir))\n",
    "\n",
    "print(f\"Number of images: {len(images)}\")\n",
    "print(f\"Number of masks: {len(masks)}\")\n"
   ]
  },
  {
   "cell_type": "code",
   "execution_count": 8,
   "metadata": {},
   "outputs": [
    {
     "name": "stdout",
     "output_type": "stream",
     "text": [
      "File lists (.flist) generated successfully in: datasets/celeba-hq\\flists\n"
     ]
    }
   ],
   "source": [
    "import os\n",
    "from sklearn.model_selection import train_test_split\n",
    "\n",
    "# Define dataset paths\n",
    "dataset_root = 'datasets/celeba-hq'\n",
    "image_dir = os.path.join(dataset_root, 'val_source_256')\n",
    "mask_dir = os.path.join(dataset_root, 'val_masks_thick')\n",
    "\n",
    "# List image and mask files\n",
    "images = sorted(os.listdir(image_dir))\n",
    "masks = sorted(os.listdir(mask_dir))\n",
    "\n",
    "# Split into train/validation (90% train, 10% val)\n",
    "train_imgs, val_imgs, train_masks, val_masks = train_test_split(\n",
    "    images, masks, test_size=0.1, random_state=42\n",
    ")\n",
    "\n",
    "# Function to save lists into files\n",
    "def save_flist(file_list, file_path):\n",
    "    with open(file_path, 'w') as file:\n",
    "        for item in file_list:\n",
    "            file.write(f\"{item}\\n\")\n",
    "\n",
    "# Create directory for flist files if it doesn't exist\n",
    "flist_dir = os.path.join(dataset_root, 'flists')\n",
    "os.makedirs(flist_dir, exist_ok=True)\n",
    "\n",
    "# Save the flists\n",
    "save_flist(train_imgs, os.path.join(flist_dir, 'train_images.flist'))\n",
    "save_flist(train_masks, os.path.join(flist_dir, 'train_masks.flist'))\n",
    "save_flist(val_imgs, os.path.join(flist_dir, 'val_images.flist'))\n",
    "save_flist(val_masks, os.path.join(flist_dir, 'val_masks.flist'))\n",
    "\n",
    "print(\"File lists (.flist) generated successfully in:\", flist_dir)\n"
   ]
  }
 ],
 "metadata": {
  "kernelspec": {
   "display_name": "Python 3",
   "language": "python",
   "name": "python3"
  },
  "language_info": {
   "codemirror_mode": {
    "name": "ipython",
    "version": 3
   },
   "file_extension": ".py",
   "mimetype": "text/x-python",
   "name": "python",
   "nbconvert_exporter": "python",
   "pygments_lexer": "ipython3",
   "version": "3.9.13"
  }
 },
 "nbformat": 4,
 "nbformat_minor": 2
}
