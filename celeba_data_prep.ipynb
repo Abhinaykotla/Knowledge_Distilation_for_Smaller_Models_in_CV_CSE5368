{
 "cells": [
  {
   "cell_type": "code",
   "execution_count": null,
   "metadata": {},
   "outputs": [],
   "source": [
    "import zipfile\n",
    "\n",
    "with zipfile.ZipFile('datasets/celeba-hq/img_align_celeba.zip', 'r') as zip_ref:\n",
    "    zip_ref.extractall('datasets/celeba-hq/raw_images')\n"
   ]
  },
  {
   "cell_type": "code",
   "execution_count": null,
   "metadata": {},
   "outputs": [],
   "source": [
    "from PIL import Image\n",
    "import os\n",
    "\n",
    "input_dir = 'datasets/celeba-hq/raw_images'\n",
    "output_dir = 'datasets/celeba-hq/val_source_256'\n",
    "os.makedirs(output_dir, exist_ok=True)\n",
    "\n",
    "for fname in os.listdir(input_dir):\n",
    "    if fname.endswith('.jpg'):\n",
    "        img = Image.open(os.path.join(input_dir, fname)).convert('RGB')\n",
    "        img = img.resize((256, 256), Image.LANCZOS)\n",
    "        img.save(os.path.join(output_dir, fname))\n"
   ]
  },
  {
   "cell_type": "code",
   "execution_count": null,
   "metadata": {},
   "outputs": [],
   "source": [
    "import os\n",
    "\n",
    "img_dir = \"datasets/celeba-hq/val_source_256\"\n",
    "mask_dir = \"datasets/celeba-hq/val_masks_thick\"\n",
    "\n",
    "images = sorted(os.listdir(img_dir))\n",
    "masks = sorted(os.listdir(mask_dir))\n",
    "\n",
    "print(f\"Number of images: {len(images)}\")\n",
    "print(f\"Number of masks: {len(masks)}\")\n"
   ]
  },
  {
   "cell_type": "code",
   "execution_count": null,
   "metadata": {},
   "outputs": [],
   "source": [
    "import os\n",
    "from sklearn.model_selection import train_test_split\n",
    "\n",
    "# Define dataset paths\n",
    "dataset_root = 'datasets/celeba-hq'\n",
    "image_dir = os.path.join(dataset_root, 'val_source_256')\n",
    "mask_dir = os.path.join(dataset_root, 'val_masks_thick')\n",
    "\n",
    "# List image and mask files\n",
    "images = sorted(os.listdir(image_dir))\n",
    "masks = sorted(os.listdir(mask_dir))\n",
    "\n",
    "# Split into train/validation (90% train, 10% val)\n",
    "train_imgs, val_imgs, train_masks, val_masks = train_test_split(\n",
    "    images, masks, test_size=0.1, random_state=42\n",
    ")\n",
    "\n",
    "# Function to save lists into files\n",
    "def save_flist(file_list, file_path):\n",
    "    with open(file_path, 'w') as file:\n",
    "        for item in file_list:\n",
    "            file.write(f\"{item}\\n\")\n",
    "\n",
    "# Create directory for flist files if it doesn't exist\n",
    "flist_dir = os.path.join(dataset_root, 'flists')\n",
    "os.makedirs(flist_dir, exist_ok=True)\n",
    "\n",
    "# Save the flists\n",
    "save_flist(train_imgs, os.path.join(flist_dir, 'train_images.flist'))\n",
    "save_flist(train_masks, os.path.join(flist_dir, 'train_masks.flist'))\n",
    "save_flist(val_imgs, os.path.join(flist_dir, 'val_images.flist'))\n",
    "save_flist(val_masks, os.path.join(flist_dir, 'val_masks.flist'))\n",
    "\n",
    "print(\"File lists (.flist) generated successfully in:\", flist_dir)\n"
   ]
  }
 ],
 "metadata": {
  "kernelspec": {
   "display_name": "Python 3",
   "language": "python",
   "name": "python3"
  },
  "language_info": {
   "codemirror_mode": {
    "name": "ipython",
    "version": 3
   },
   "file_extension": ".py",
   "mimetype": "text/x-python",
   "name": "python",
   "nbconvert_exporter": "python",
   "pygments_lexer": "ipython3",
   "version": "3.9.13"
  }
 },
 "nbformat": 4,
 "nbformat_minor": 2
}
