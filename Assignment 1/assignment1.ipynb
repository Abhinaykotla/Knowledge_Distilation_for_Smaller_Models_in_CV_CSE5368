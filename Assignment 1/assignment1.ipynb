{
  "cells": [
    {
      "cell_type": "code",
      "execution_count": 7,
      "metadata": {
        "id": "QHRXkyC3eESo"
      },
      "outputs": [
        {
          "name": "stderr",
          "output_type": "stream",
          "text": [
            "2025-03-20 12:39:21.851819: E external/local_xla/xla/stream_executor/cuda/cuda_fft.cc:467] Unable to register cuFFT factory: Attempting to register factory for plugin cuFFT when one has already been registered\n",
            "WARNING: All log messages before absl::InitializeLog() is called are written to STDERR\n",
            "E0000 00:00:1742441961.876385     345 cuda_dnn.cc:8579] Unable to register cuDNN factory: Attempting to register factory for plugin cuDNN when one has already been registered\n",
            "E0000 00:00:1742441961.883827     345 cuda_blas.cc:1407] Unable to register cuBLAS factory: Attempting to register factory for plugin cuBLAS when one has already been registered\n",
            "W0000 00:00:1742441961.903679     345 computation_placer.cc:177] computation placer already registered. Please check linkage and avoid linking the same target more than once.\n",
            "W0000 00:00:1742441961.903700     345 computation_placer.cc:177] computation placer already registered. Please check linkage and avoid linking the same target more than once.\n",
            "W0000 00:00:1742441961.903703     345 computation_placer.cc:177] computation placer already registered. Please check linkage and avoid linking the same target more than once.\n",
            "W0000 00:00:1742441961.903705     345 computation_placer.cc:177] computation placer already registered. Please check linkage and avoid linking the same target more than once.\n",
            "2025-03-20 12:39:21.913806: I tensorflow/core/platform/cpu_feature_guard.cc:210] This TensorFlow binary is optimized to use available CPU instructions in performance-critical operations.\n",
            "To enable the following instructions: AVX2 AVX512F FMA, in other operations, rebuild TensorFlow with the appropriate compiler flags.\n"
          ]
        }
      ],
      "source": [
        "import pandas as pd\n",
        "import numpy as np\n",
        "from sklearn.model_selection import train_test_split\n",
        "from sklearn.preprocessing import StandardScaler, LabelEncoder\n",
        "from sklearn.metrics import accuracy_score\n",
        "from tensorflow.keras.models import Sequential, load_model\n",
        "from tensorflow.keras.layers import Dense\n",
        "from tensorflow.keras.utils import to_categorical\n",
        "import os"
      ]
    },
    {
      "cell_type": "code",
      "execution_count": 10,
      "metadata": {
        "colab": {
          "base_uri": "https://localhost:8080/"
        },
        "id": "KZ3HZnGweky9",
        "outputId": "35ba35b1-ef9e-4cd1-a693-c46943a70336"
      },
      "outputs": [
        {
          "name": "stderr",
          "output_type": "stream",
          "text": [
            "/usr/local/lib/python3.11/site-packages/tqdm/auto.py:21: TqdmWarning: IProgress not found. Please update jupyter and ipywidgets. See https://ipywidgets.readthedocs.io/en/stable/user_install.html\n",
            "  from .autonotebook import tqdm as notebook_tqdm\n"
          ]
        },
        {
          "name": "stdout",
          "output_type": "stream",
          "text": [
            "Downloading from https://www.kaggle.com/api/v1/datasets/download/sobhanmoosavi/us-road-construction-and-closures?dataset_version_number=1...\n"
          ]
        },
        {
          "name": "stderr",
          "output_type": "stream",
          "text": [
            "100%|██████████| 760M/760M [00:26<00:00, 30.6MB/s] "
          ]
        },
        {
          "name": "stdout",
          "output_type": "stream",
          "text": [
            "Extracting files...\n"
          ]
        },
        {
          "name": "stderr",
          "output_type": "stream",
          "text": [
            "\n"
          ]
        },
        {
          "name": "stdout",
          "output_type": "stream",
          "text": [
            "Path to dataset files: /home/work/.cache/kagglehub/datasets/sobhanmoosavi/us-road-construction-and-closures/versions/1\n"
          ]
        }
      ],
      "source": [
        "import kagglehub\n",
        "\n",
        "path = kagglehub.dataset_download(\"sobhanmoosavi/us-road-construction-and-closures\")\n",
        "print(\"Path to dataset files:\", path)"
      ]
    },
    {
      "cell_type": "code",
      "execution_count": 12,
      "metadata": {
        "id": "XtoOFcQmeESr"
      },
      "outputs": [],
      "source": [
        "def get_data(path):\n",
        "    try:\n",
        "        # Load dataset\n",
        "        df = pd.read_csv(path)\n",
        "    except FileNotFoundError:\n",
        "        return \"File not found\"\n",
        "    except Exception as e:\n",
        "        return f\"An error occurred while loading the dataset: {e}\"\n",
        "\n",
        "    # Convert time columns to datetime and compute duration (in minutes)\n",
        "    def parse_datetime(dt_str):\n",
        "      # Try formats with microseconds first, then without\n",
        "      for fmt in (\"%Y-%m-%d %H:%M:%S.%f\", \"%Y-%m-%d %H:%M:%S\"):\n",
        "          try:\n",
        "              return pd.to_datetime(dt_str, format=fmt)\n",
        "          except ValueError:\n",
        "              continue\n",
        "      # Return NaT if none of the formats work\n",
        "      return pd.NaT\n",
        "\n",
        "    # Apply the custom function to the relevant columns\n",
        "    df['Start_Time'] = df['Start_Time'].apply(parse_datetime)\n",
        "    df['End_Time'] = df['End_Time'].apply(parse_datetime)\n",
        "\n",
        "    # Drop rows where the datetime conversion failed\n",
        "    df = df.dropna(subset=['Start_Time', 'End_Time'])\n",
        "\n",
        "    df['Duration'] = (df['End_Time'] - df['Start_Time']).dt.total_seconds() / 60.0\n",
        "\n",
        "    # Define the feature columns\n",
        "    features = [\n",
        "        'Distance(mi)',\n",
        "        'Start_Lat', 'Start_Lng', 'End_Lat', 'End_Lng',\n",
        "        'Temperature(F)', 'Wind_Chill(F)', 'Humidity(%)',\n",
        "        'Pressure(in)', 'Visibility(mi)', 'Wind_Speed(mph)',\n",
        "        'Precipitation(in)',\n",
        "        'Duration'\n",
        "    ]\n",
        "\n",
        "    # Drop rows that have missing values in any of the selected features or in the target\n",
        "    df = df[['Severity'] + features].dropna()\n",
        "\n",
        "    # Encode Severity into integer classes (0, 1, 2, 3)\n",
        "    # This step will automatically map the unique severity values (e.g., 1, 2, 3, 4) to 0,1,2,3.\n",
        "    le = LabelEncoder()\n",
        "    df['Severity_encoded'] = le.fit_transform(df['Severity'])\n",
        "\n",
        "    # Prepare input features and target\n",
        "    X = df[features].values.astype(np.float32)\n",
        "    y = df['Severity_encoded'].values.astype(np.int32)\n",
        "\n",
        "    # Standardize features for better NN performance\n",
        "    scaler = StandardScaler()\n",
        "    X_scaled = scaler.fit_transform(X)\n",
        "\n",
        "    # Split the data into training and testing sets\n",
        "    X_train, X_test, y_train, y_test = train_test_split(X_scaled, y, test_size=0.2, random_state=42)\n",
        "\n",
        "    return X_train, X_test, y_train, y_test"
      ]
    },
    {
      "cell_type": "code",
      "execution_count": 23,
      "metadata": {
        "id": "b-oq-GQ5eESr"
      },
      "outputs": [],
      "source": [
        "def train_nn(X_train, y_train):\n",
        "    # Build the neural network model\n",
        "    model = Sequential([\n",
        "        Dense(32, activation='relu', input_shape=(X_train.shape[1],)),\n",
        "        Dense(16, activation='relu'),\n",
        "        Dense(4, activation='softmax')\n",
        "    ])\n",
        "\n",
        "    # Compile the model\n",
        "    model.compile(loss='sparse_categorical_crossentropy', optimizer='adam', metrics=['accuracy'])\n",
        "\n",
        "    # Train the model\n",
        "    model.fit(X_train, y_train, epochs=50, batch_size=8192, validation_split=0.1, verbose=1)\n",
        "\n",
        "    return model\n",
        "    "
      ]
    },
    {
      "cell_type": "code",
      "execution_count": 18,
      "metadata": {
        "id": "vv0AnPsOeESr"
      },
      "outputs": [],
      "source": [
        "csv = os.path.join(path, 'US_Constructions_Dec21.csv')\n",
        "X_train, X_test, y_train, y_test = get_data(csv)"
      ]
    },
    {
      "cell_type": "code",
      "execution_count": 24,
      "metadata": {},
      "outputs": [
        {
          "name": "stdout",
          "output_type": "stream",
          "text": [
            "Epoch 1/50\n",
            "\u001b[1m414/414\u001b[0m \u001b[32m━━━━━━━━━━━━━━━━━━━━\u001b[0m\u001b[37m\u001b[0m \u001b[1m3s\u001b[0m 5ms/step - accuracy: 0.7660 - loss: 0.7405 - val_accuracy: 0.8871 - val_loss: 0.3969\n",
            "Epoch 2/50\n",
            "\u001b[1m414/414\u001b[0m \u001b[32m━━━━━━━━━━━━━━━━━━━━\u001b[0m\u001b[37m\u001b[0m \u001b[1m2s\u001b[0m 4ms/step - accuracy: 0.8867 - loss: 0.3951 - val_accuracy: 0.8871 - val_loss: 0.3872\n",
            "Epoch 3/50\n",
            "\u001b[1m414/414\u001b[0m \u001b[32m━━━━━━━━━━━━━━━━━━━━\u001b[0m\u001b[37m\u001b[0m \u001b[1m2s\u001b[0m 4ms/step - accuracy: 0.8867 - loss: 0.3860 - val_accuracy: 0.8871 - val_loss: 0.3797\n",
            "Epoch 4/50\n",
            "\u001b[1m414/414\u001b[0m \u001b[32m━━━━━━━━━━━━━━━━━━━━\u001b[0m\u001b[37m\u001b[0m \u001b[1m3s\u001b[0m 4ms/step - accuracy: 0.8870 - loss: 0.3777 - val_accuracy: 0.8872 - val_loss: 0.3673\n",
            "Epoch 5/50\n",
            "\u001b[1m414/414\u001b[0m \u001b[32m━━━━━━━━━━━━━━━━━━━━\u001b[0m\u001b[37m\u001b[0m \u001b[1m2s\u001b[0m 4ms/step - accuracy: 0.8871 - loss: 0.3640 - val_accuracy: 0.8895 - val_loss: 0.3524\n",
            "Epoch 6/50\n",
            "\u001b[1m414/414\u001b[0m \u001b[32m━━━━━━━━━━━━━━━━━━━━\u001b[0m\u001b[37m\u001b[0m \u001b[1m2s\u001b[0m 4ms/step - accuracy: 0.8897 - loss: 0.3502 - val_accuracy: 0.8920 - val_loss: 0.3436\n",
            "Epoch 7/50\n",
            "\u001b[1m414/414\u001b[0m \u001b[32m━━━━━━━━━━━━━━━━━━━━\u001b[0m\u001b[37m\u001b[0m \u001b[1m3s\u001b[0m 4ms/step - accuracy: 0.8918 - loss: 0.3428 - val_accuracy: 0.8928 - val_loss: 0.3389\n",
            "Epoch 8/50\n",
            "\u001b[1m414/414\u001b[0m \u001b[32m━━━━━━━━━━━━━━━━━━━━\u001b[0m\u001b[37m\u001b[0m \u001b[1m3s\u001b[0m 4ms/step - accuracy: 0.8925 - loss: 0.3385 - val_accuracy: 0.8931 - val_loss: 0.3358\n",
            "Epoch 9/50\n",
            "\u001b[1m414/414\u001b[0m \u001b[32m━━━━━━━━━━━━━━━━━━━━\u001b[0m\u001b[37m\u001b[0m \u001b[1m2s\u001b[0m 4ms/step - accuracy: 0.8933 - loss: 0.3343 - val_accuracy: 0.8936 - val_loss: 0.3329\n",
            "Epoch 10/50\n",
            "\u001b[1m414/414\u001b[0m \u001b[32m━━━━━━━━━━━━━━━━━━━━\u001b[0m\u001b[37m\u001b[0m \u001b[1m2s\u001b[0m 4ms/step - accuracy: 0.8940 - loss: 0.3317 - val_accuracy: 0.8945 - val_loss: 0.3303\n",
            "Epoch 11/50\n",
            "\u001b[1m414/414\u001b[0m \u001b[32m━━━━━━━━━━━━━━━━━━━━\u001b[0m\u001b[37m\u001b[0m \u001b[1m2s\u001b[0m 4ms/step - accuracy: 0.8949 - loss: 0.3294 - val_accuracy: 0.8949 - val_loss: 0.3284\n",
            "Epoch 12/50\n",
            "\u001b[1m414/414\u001b[0m \u001b[32m━━━━━━━━━━━━━━━━━━━━\u001b[0m\u001b[37m\u001b[0m \u001b[1m2s\u001b[0m 4ms/step - accuracy: 0.8951 - loss: 0.3273 - val_accuracy: 0.8955 - val_loss: 0.3262\n",
            "Epoch 13/50\n",
            "\u001b[1m414/414\u001b[0m \u001b[32m━━━━━━━━━━━━━━━━━━━━\u001b[0m\u001b[37m\u001b[0m \u001b[1m2s\u001b[0m 4ms/step - accuracy: 0.8959 - loss: 0.3250 - val_accuracy: 0.8963 - val_loss: 0.3240\n",
            "Epoch 14/50\n",
            "\u001b[1m414/414\u001b[0m \u001b[32m━━━━━━━━━━━━━━━━━━━━\u001b[0m\u001b[37m\u001b[0m \u001b[1m2s\u001b[0m 4ms/step - accuracy: 0.8966 - loss: 0.3232 - val_accuracy: 0.8970 - val_loss: 0.3218\n",
            "Epoch 15/50\n",
            "\u001b[1m414/414\u001b[0m \u001b[32m━━━━━━━━━━━━━━━━━━━━\u001b[0m\u001b[37m\u001b[0m \u001b[1m3s\u001b[0m 4ms/step - accuracy: 0.8982 - loss: 0.3207 - val_accuracy: 0.8987 - val_loss: 0.3192\n",
            "Epoch 16/50\n",
            "\u001b[1m414/414\u001b[0m \u001b[32m━━━━━━━━━━━━━━━━━━━━\u001b[0m\u001b[37m\u001b[0m \u001b[1m3s\u001b[0m 4ms/step - accuracy: 0.8990 - loss: 0.3184 - val_accuracy: 0.8992 - val_loss: 0.3176\n",
            "Epoch 17/50\n",
            "\u001b[1m414/414\u001b[0m \u001b[32m━━━━━━━━━━━━━━━━━━━━\u001b[0m\u001b[37m\u001b[0m \u001b[1m2s\u001b[0m 4ms/step - accuracy: 0.8995 - loss: 0.3163 - val_accuracy: 0.8997 - val_loss: 0.3159\n",
            "Epoch 18/50\n",
            "\u001b[1m414/414\u001b[0m \u001b[32m━━━━━━━━━━━━━━━━━━━━\u001b[0m\u001b[37m\u001b[0m \u001b[1m3s\u001b[0m 4ms/step - accuracy: 0.8996 - loss: 0.3164 - val_accuracy: 0.8997 - val_loss: 0.3150\n",
            "Epoch 19/50\n",
            "\u001b[1m414/414\u001b[0m \u001b[32m━━━━━━━━━━━━━━━━━━━━\u001b[0m\u001b[37m\u001b[0m \u001b[1m2s\u001b[0m 4ms/step - accuracy: 0.9003 - loss: 0.3143 - val_accuracy: 0.9002 - val_loss: 0.3139\n",
            "Epoch 20/50\n",
            "\u001b[1m414/414\u001b[0m \u001b[32m━━━━━━━━━━━━━━━━━━━━\u001b[0m\u001b[37m\u001b[0m \u001b[1m2s\u001b[0m 4ms/step - accuracy: 0.9008 - loss: 0.3127 - val_accuracy: 0.9005 - val_loss: 0.3132\n",
            "Epoch 21/50\n",
            "\u001b[1m414/414\u001b[0m \u001b[32m━━━━━━━━━━━━━━━━━━━━\u001b[0m\u001b[37m\u001b[0m \u001b[1m3s\u001b[0m 4ms/step - accuracy: 0.9008 - loss: 0.3123 - val_accuracy: 0.9011 - val_loss: 0.3123\n",
            "Epoch 22/50\n",
            "\u001b[1m414/414\u001b[0m \u001b[32m━━━━━━━━━━━━━━━━━━━━\u001b[0m\u001b[37m\u001b[0m \u001b[1m3s\u001b[0m 4ms/step - accuracy: 0.9011 - loss: 0.3118 - val_accuracy: 0.9008 - val_loss: 0.3117\n",
            "Epoch 23/50\n",
            "\u001b[1m414/414\u001b[0m \u001b[32m━━━━━━━━━━━━━━━━━━━━\u001b[0m\u001b[37m\u001b[0m \u001b[1m2s\u001b[0m 4ms/step - accuracy: 0.9014 - loss: 0.3102 - val_accuracy: 0.9007 - val_loss: 0.3109\n",
            "Epoch 24/50\n",
            "\u001b[1m414/414\u001b[0m \u001b[32m━━━━━━━━━━━━━━━━━━━━\u001b[0m\u001b[37m\u001b[0m \u001b[1m2s\u001b[0m 4ms/step - accuracy: 0.9015 - loss: 0.3102 - val_accuracy: 0.9014 - val_loss: 0.3102\n",
            "Epoch 25/50\n",
            "\u001b[1m414/414\u001b[0m \u001b[32m━━━━━━━━━━━━━━━━━━━━\u001b[0m\u001b[37m\u001b[0m \u001b[1m2s\u001b[0m 4ms/step - accuracy: 0.9017 - loss: 0.3093 - val_accuracy: 0.9014 - val_loss: 0.3097\n",
            "Epoch 26/50\n",
            "\u001b[1m414/414\u001b[0m \u001b[32m━━━━━━━━━━━━━━━━━━━━\u001b[0m\u001b[37m\u001b[0m \u001b[1m3s\u001b[0m 4ms/step - accuracy: 0.9017 - loss: 0.3091 - val_accuracy: 0.9011 - val_loss: 0.3098\n",
            "Epoch 27/50\n",
            "\u001b[1m414/414\u001b[0m \u001b[32m━━━━━━━━━━━━━━━━━━━━\u001b[0m\u001b[37m\u001b[0m \u001b[1m3s\u001b[0m 4ms/step - accuracy: 0.9017 - loss: 0.3092 - val_accuracy: 0.9012 - val_loss: 0.3094\n",
            "Epoch 28/50\n",
            "\u001b[1m414/414\u001b[0m \u001b[32m━━━━━━━━━━━━━━━━━━━━\u001b[0m\u001b[37m\u001b[0m \u001b[1m3s\u001b[0m 4ms/step - accuracy: 0.9020 - loss: 0.3078 - val_accuracy: 0.9012 - val_loss: 0.3088\n",
            "Epoch 29/50\n",
            "\u001b[1m414/414\u001b[0m \u001b[32m━━━━━━━━━━━━━━━━━━━━\u001b[0m\u001b[37m\u001b[0m \u001b[1m2s\u001b[0m 4ms/step - accuracy: 0.9017 - loss: 0.3086 - val_accuracy: 0.9018 - val_loss: 0.3083\n",
            "Epoch 30/50\n",
            "\u001b[1m414/414\u001b[0m \u001b[32m━━━━━━━━━━━━━━━━━━━━\u001b[0m\u001b[37m\u001b[0m \u001b[1m2s\u001b[0m 4ms/step - accuracy: 0.9021 - loss: 0.3075 - val_accuracy: 0.9017 - val_loss: 0.3080\n",
            "Epoch 31/50\n",
            "\u001b[1m414/414\u001b[0m \u001b[32m━━━━━━━━━━━━━━━━━━━━\u001b[0m\u001b[37m\u001b[0m \u001b[1m2s\u001b[0m 4ms/step - accuracy: 0.9022 - loss: 0.3075 - val_accuracy: 0.9017 - val_loss: 0.3076\n",
            "Epoch 32/50\n",
            "\u001b[1m414/414\u001b[0m \u001b[32m━━━━━━━━━━━━━━━━━━━━\u001b[0m\u001b[37m\u001b[0m \u001b[1m2s\u001b[0m 4ms/step - accuracy: 0.9021 - loss: 0.3074 - val_accuracy: 0.9017 - val_loss: 0.3077\n",
            "Epoch 33/50\n",
            "\u001b[1m414/414\u001b[0m \u001b[32m━━━━━━━━━━━━━━━━━━━━\u001b[0m\u001b[37m\u001b[0m \u001b[1m2s\u001b[0m 4ms/step - accuracy: 0.9022 - loss: 0.3068 - val_accuracy: 0.9017 - val_loss: 0.3075\n",
            "Epoch 34/50\n",
            "\u001b[1m414/414\u001b[0m \u001b[32m━━━━━━━━━━━━━━━━━━━━\u001b[0m\u001b[37m\u001b[0m \u001b[1m3s\u001b[0m 4ms/step - accuracy: 0.9022 - loss: 0.3065 - val_accuracy: 0.9017 - val_loss: 0.3075\n",
            "Epoch 35/50\n",
            "\u001b[1m414/414\u001b[0m \u001b[32m━━━━━━━━━━━━━━━━━━━━\u001b[0m\u001b[37m\u001b[0m \u001b[1m3s\u001b[0m 4ms/step - accuracy: 0.9021 - loss: 0.3068 - val_accuracy: 0.9016 - val_loss: 0.3070\n",
            "Epoch 36/50\n",
            "\u001b[1m414/414\u001b[0m \u001b[32m━━━━━━━━━━━━━━━━━━━━\u001b[0m\u001b[37m\u001b[0m \u001b[1m2s\u001b[0m 4ms/step - accuracy: 0.9023 - loss: 0.3059 - val_accuracy: 0.9019 - val_loss: 0.3070\n",
            "Epoch 37/50\n",
            "\u001b[1m414/414\u001b[0m \u001b[32m━━━━━━━━━━━━━━━━━━━━\u001b[0m\u001b[37m\u001b[0m \u001b[1m3s\u001b[0m 4ms/step - accuracy: 0.9021 - loss: 0.3065 - val_accuracy: 0.9020 - val_loss: 0.3064\n",
            "Epoch 38/50\n",
            "\u001b[1m414/414\u001b[0m \u001b[32m━━━━━━━━━━━━━━━━━━━━\u001b[0m\u001b[37m\u001b[0m \u001b[1m2s\u001b[0m 4ms/step - accuracy: 0.9026 - loss: 0.3056 - val_accuracy: 0.9021 - val_loss: 0.3063\n",
            "Epoch 39/50\n",
            "\u001b[1m414/414\u001b[0m \u001b[32m━━━━━━━━━━━━━━━━━━━━\u001b[0m\u001b[37m\u001b[0m \u001b[1m3s\u001b[0m 4ms/step - accuracy: 0.9025 - loss: 0.3055 - val_accuracy: 0.9024 - val_loss: 0.3058\n",
            "Epoch 40/50\n",
            "\u001b[1m414/414\u001b[0m \u001b[32m━━━━━━━━━━━━━━━━━━━━\u001b[0m\u001b[37m\u001b[0m \u001b[1m3s\u001b[0m 4ms/step - accuracy: 0.9025 - loss: 0.3052 - val_accuracy: 0.9019 - val_loss: 0.3058\n",
            "Epoch 41/50\n",
            "\u001b[1m414/414\u001b[0m \u001b[32m━━━━━━━━━━━━━━━━━━━━\u001b[0m\u001b[37m\u001b[0m \u001b[1m3s\u001b[0m 4ms/step - accuracy: 0.9028 - loss: 0.3046 - val_accuracy: 0.9023 - val_loss: 0.3055\n",
            "Epoch 42/50\n",
            "\u001b[1m414/414\u001b[0m \u001b[32m━━━━━━━━━━━━━━━━━━━━\u001b[0m\u001b[37m\u001b[0m \u001b[1m2s\u001b[0m 4ms/step - accuracy: 0.9026 - loss: 0.3052 - val_accuracy: 0.9020 - val_loss: 0.3058\n",
            "Epoch 43/50\n",
            "\u001b[1m414/414\u001b[0m \u001b[32m━━━━━━━━━━━━━━━━━━━━\u001b[0m\u001b[37m\u001b[0m \u001b[1m3s\u001b[0m 4ms/step - accuracy: 0.9027 - loss: 0.3046 - val_accuracy: 0.9023 - val_loss: 0.3050\n",
            "Epoch 44/50\n",
            "\u001b[1m414/414\u001b[0m \u001b[32m━━━━━━━━━━━━━━━━━━━━\u001b[0m\u001b[37m\u001b[0m \u001b[1m2s\u001b[0m 4ms/step - accuracy: 0.9026 - loss: 0.3045 - val_accuracy: 0.9021 - val_loss: 0.3051\n",
            "Epoch 45/50\n",
            "\u001b[1m414/414\u001b[0m \u001b[32m━━━━━━━━━━━━━━━━━━━━\u001b[0m\u001b[37m\u001b[0m \u001b[1m2s\u001b[0m 4ms/step - accuracy: 0.9030 - loss: 0.3041 - val_accuracy: 0.9026 - val_loss: 0.3046\n",
            "Epoch 46/50\n",
            "\u001b[1m414/414\u001b[0m \u001b[32m━━━━━━━━━━━━━━━━━━━━\u001b[0m\u001b[37m\u001b[0m \u001b[1m2s\u001b[0m 4ms/step - accuracy: 0.9025 - loss: 0.3041 - val_accuracy: 0.9022 - val_loss: 0.3044\n",
            "Epoch 47/50\n",
            "\u001b[1m414/414\u001b[0m \u001b[32m━━━━━━━━━━━━━━━━━━━━\u001b[0m\u001b[37m\u001b[0m \u001b[1m2s\u001b[0m 4ms/step - accuracy: 0.9024 - loss: 0.3045 - val_accuracy: 0.9023 - val_loss: 0.3039\n",
            "Epoch 48/50\n",
            "\u001b[1m414/414\u001b[0m \u001b[32m━━━━━━━━━━━━━━━━━━━━\u001b[0m\u001b[37m\u001b[0m \u001b[1m3s\u001b[0m 4ms/step - accuracy: 0.9028 - loss: 0.3036 - val_accuracy: 0.9025 - val_loss: 0.3038\n",
            "Epoch 49/50\n",
            "\u001b[1m414/414\u001b[0m \u001b[32m━━━━━━━━━━━━━━━━━━━━\u001b[0m\u001b[37m\u001b[0m \u001b[1m2s\u001b[0m 4ms/step - accuracy: 0.9026 - loss: 0.3040 - val_accuracy: 0.9019 - val_loss: 0.3043\n",
            "Epoch 50/50\n",
            "\u001b[1m414/414\u001b[0m \u001b[32m━━━━━━━━━━━━━━━━━━━━\u001b[0m\u001b[37m\u001b[0m \u001b[1m2s\u001b[0m 4ms/step - accuracy: 0.9029 - loss: 0.3028 - val_accuracy: 0.9023 - val_loss: 0.3039\n"
          ]
        }
      ],
      "source": [
        "model = train_nn(X_train, y_train)"
      ]
    },
    {
      "cell_type": "code",
      "execution_count": 25,
      "metadata": {},
      "outputs": [
        {
          "name": "stdout",
          "output_type": "stream",
          "text": [
            "Test loss: 0.3034529685974121\n",
            "Test accuracy: 0.9026808142662048\n"
          ]
        }
      ],
      "source": [
        "# Evaluate the model\n",
        "loss, accuracy = model.evaluate(X_test, y_test, verbose=0)\n",
        "print(\"Test loss:\", loss)\n",
        "print(\"Test accuracy:\", accuracy)"
      ]
    }
  ],
  "metadata": {
    "accelerator": "GPU",
    "colab": {
      "gpuType": "T4",
      "provenance": []
    },
    "kernelspec": {
      "display_name": "Python 3",
      "name": "python3"
    },
    "language_info": {
      "codemirror_mode": {
        "name": "ipython",
        "version": 3
      },
      "file_extension": ".py",
      "mimetype": "text/x-python",
      "name": "python",
      "nbconvert_exporter": "python",
      "pygments_lexer": "ipython3",
      "version": "3.11.9"
    }
  },
  "nbformat": 4,
  "nbformat_minor": 0
}
